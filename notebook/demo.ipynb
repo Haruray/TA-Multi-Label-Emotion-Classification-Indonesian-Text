{
 "cells": [
  {
   "cell_type": "code",
   "execution_count": 1,
   "metadata": {},
   "outputs": [
    {
     "name": "stderr",
     "output_type": "stream",
     "text": [
      "c:\\Users\\HP\\AppData\\Local\\Programs\\Python\\Python310\\lib\\site-packages\\tqdm\\auto.py:21: TqdmWarning: IProgress not found. Please update jupyter and ipywidgets. See https://ipywidgets.readthedocs.io/en/stable/user_install.html\n",
      "  from .autonotebook import tqdm as notebook_tqdm\n"
     ]
    }
   ],
   "source": [
    "from torch.utils.data import DataLoader\n",
    "import sys\n",
    "import numpy as np\n",
    "import torch\n",
    "from transformers import AutoTokenizer\n",
    "\n",
    "sys.path.insert(0, '../src')\n",
    "\n",
    "from MLEC import SpanEmo, DataClass\n"
   ]
  },
  {
   "cell_type": "code",
   "execution_count": 2,
   "metadata": {},
   "outputs": [
    {
     "name": "stdout",
     "output_type": "stream",
     "text": [
      "Currently using cpu\n"
     ]
    }
   ],
   "source": [
    "seed = 42\n",
    "device = torch.device(\"cuda:0\" if torch.cuda.is_available() else \"cpu\")\n",
    "print(\"Currently using {}\".format(device))\n",
    "\n",
    "def set_seed(seed):    \n",
    "    np.random.seed(seed)\n",
    "    torch.manual_seed(seed)\n",
    "    torch.cuda.manual_seed(seed)\n",
    "    torch.cuda.manual_seed_all(seed)\n",
    "    torch.backends.cudnn.deterministic = True\n",
    "    torch.backends.cudnn.benchmark = False\n",
    "set_seed(seed)\n",
    "\n",
    "MAX_LENGTH = 128\n",
    "DROPOUT_RATE = 0.1\n",
    "TOKENIZER_NAME = \"indolem/indobert-base-uncased\"\n",
    "ENCODER_NAME = \"indolem/indobert-base-uncased\"\n",
    "SPANEMO_WEIGHTS = {\n",
    "    \"LCA\" : 0.6,\n",
    "    \"ZLPR\" : 0.4,\n",
    "}\n",
    "EMOREC_WEIGHTS = {\n",
    "    \"LCA\" : 0.9,\n",
    "    \"ZLPR\" : 0.0,\n",
    "}\n",
    "TOKENIZER_NAME = \"indolem/indobert-base-uncased\"\n",
    "ENCODER_NAME = \"indolem/indobert-base-uncased\"\n",
    "\n",
    "EMOTIONS = [\"Marah\",\"Antisipasi\",\"Jijik\",\"Takut\",\"Bahagia\",\"Sedih\",\"Terkejut\",\"Percaya\"]\n",
    "LABEL_SIZE = len(EMOTIONS)"
   ]
  },
  {
   "cell_type": "code",
   "execution_count": 3,
   "metadata": {},
   "outputs": [
    {
     "data": {
      "text/plain": [
       "8"
      ]
     },
     "execution_count": 3,
     "metadata": {},
     "output_type": "execute_result"
    }
   ],
   "source": [
    "tokenizer = AutoTokenizer.from_pretrained(TOKENIZER_NAME)\n",
    "tokenizer.add_tokens(EMOTIONS)"
   ]
  },
  {
   "cell_type": "code",
   "execution_count": 4,
   "metadata": {},
   "outputs": [
    {
     "data": {
      "text/plain": [
       "SpanEmo(\n",
       "  (encoder): BertModel(\n",
       "    (embeddings): BertEmbeddings(\n",
       "      (word_embeddings): Embedding(31931, 768)\n",
       "      (position_embeddings): Embedding(512, 768)\n",
       "      (token_type_embeddings): Embedding(2, 768)\n",
       "      (LayerNorm): LayerNorm((768,), eps=1e-12, elementwise_affine=True)\n",
       "      (dropout): Dropout(p=0.1, inplace=False)\n",
       "    )\n",
       "    (encoder): BertEncoder(\n",
       "      (layer): ModuleList(\n",
       "        (0-11): 12 x BertLayer(\n",
       "          (attention): BertAttention(\n",
       "            (self): BertSelfAttention(\n",
       "              (query): Linear(in_features=768, out_features=768, bias=True)\n",
       "              (key): Linear(in_features=768, out_features=768, bias=True)\n",
       "              (value): Linear(in_features=768, out_features=768, bias=True)\n",
       "              (dropout): Dropout(p=0.1, inplace=False)\n",
       "            )\n",
       "            (output): BertSelfOutput(\n",
       "              (dense): Linear(in_features=768, out_features=768, bias=True)\n",
       "              (LayerNorm): LayerNorm((768,), eps=1e-12, elementwise_affine=True)\n",
       "              (dropout): Dropout(p=0.1, inplace=False)\n",
       "            )\n",
       "          )\n",
       "          (intermediate): BertIntermediate(\n",
       "            (dense): Linear(in_features=768, out_features=3072, bias=True)\n",
       "            (intermediate_act_fn): GELUActivation()\n",
       "          )\n",
       "          (output): BertOutput(\n",
       "            (dense): Linear(in_features=3072, out_features=768, bias=True)\n",
       "            (LayerNorm): LayerNorm((768,), eps=1e-12, elementwise_affine=True)\n",
       "            (dropout): Dropout(p=0.1, inplace=False)\n",
       "          )\n",
       "        )\n",
       "      )\n",
       "    )\n",
       "    (pooler): BertPooler(\n",
       "      (dense): Linear(in_features=768, out_features=768, bias=True)\n",
       "      (activation): Tanh()\n",
       "    )\n",
       "  )\n",
       "  (classifier): Sequential(\n",
       "    (0): Linear(in_features=768, out_features=768, bias=True)\n",
       "    (1): Tanh()\n",
       "    (2): Dropout(p=0.1, inplace=False)\n",
       "    (3): Linear(in_features=768, out_features=1, bias=True)\n",
       "  )\n",
       ")"
      ]
     },
     "execution_count": 4,
     "metadata": {},
     "output_type": "execute_result"
    }
   ],
   "source": [
    "spanemo = SpanEmo(\n",
    "    output_dropout=DROPOUT_RATE,\n",
    "    alpha=SPANEMO_WEIGHTS[\"LCA\"],\n",
    "    beta=SPANEMO_WEIGHTS[\"ZLPR\"],\n",
    "    device=device,\n",
    "    encoder_name=ENCODER_NAME,\n",
    "    embedding_vocab_size=len(tokenizer),\n",
    ")\n",
    "state_dict = torch.load(\"../models/spanemo.pt\", map_location=\"cpu\")\n",
    "spanemo.to(device).load_state_dict(state_dict)\n",
    "spanemo.eval()"
   ]
  },
  {
   "cell_type": "code",
   "execution_count": 9,
   "metadata": {},
   "outputs": [
    {
     "name": "stdout",
     "output_type": "stream",
     "text": [
      "Teks :  \"Makasih banyak kak giveawaynya, semoga rezeki kakak dibalas yang lebih besar amin  ooya aku dom depok hehe\"\n",
      "Emotion:  ['Antisipasi' 'Bahagia']\n"
     ]
    }
   ],
   "source": [
    "text = input(\"Enter text: \")\n",
    "# concat with EMOTIONS\n",
    "emotions_text = \" \".join(EMOTIONS) + \"?\"\n",
    "# text = emotions_text + \" \" + text\n",
    "# tokenize\n",
    "inputs = tokenizer.encode_plus(\n",
    "    emotions_text,\n",
    "    text,\n",
    "    add_special_tokens=True,\n",
    "    max_length=MAX_LENGTH,\n",
    "    padding=\"max_length\",\n",
    "    truncation=True,\n",
    "    return_attention_mask=True,\n",
    ")\n",
    "\n",
    "input_ids = inputs[\"input_ids\"]\n",
    "attention_mask = inputs[\"attention_mask\"]\n",
    "label_idxs = torch.tensor([1,2,3,4,5,6,7,8])\n",
    "\n",
    "input_ids = torch.tensor(input_ids).to(device)\n",
    "attention_mask = torch.tensor(attention_mask).to(device)\n",
    "label_idxs = label_idxs.to(device)\n",
    "\n",
    "# transform to single batch\n",
    "input_ids = input_ids.unsqueeze(0)\n",
    "attention_mask = attention_mask.unsqueeze(0)\n",
    "label_idxs = label_idxs.unsqueeze(0)\n",
    "\n",
    "with torch.no_grad():\n",
    "    print(\"Teks : \", text)\n",
    "    _, y_pred, logits, _ = spanemo(input_ids, attention_mask, label_idxs=label_idxs)\n",
    "    idx = np.where(y_pred[0] == 1)\n",
    "    # get the emotion\n",
    "    print(\"Emotion: \", np.array(EMOTIONS)[idx])\n",
    "    \n",
    "    \n",
    "    "
   ]
  }
 ],
 "metadata": {
  "kernelspec": {
   "display_name": "Python 3",
   "language": "python",
   "name": "python3"
  },
  "language_info": {
   "codemirror_mode": {
    "name": "ipython",
    "version": 3
   },
   "file_extension": ".py",
   "mimetype": "text/x-python",
   "name": "python",
   "nbconvert_exporter": "python",
   "pygments_lexer": "ipython3",
   "version": "3.10.11"
  }
 },
 "nbformat": 4,
 "nbformat_minor": 2
}
